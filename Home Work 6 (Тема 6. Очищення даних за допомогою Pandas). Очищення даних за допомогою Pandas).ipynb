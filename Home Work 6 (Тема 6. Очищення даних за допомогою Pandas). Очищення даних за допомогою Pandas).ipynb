{
 "cells": [
  {
   "cell_type": "code",
   "execution_count": 1,
   "metadata": {},
   "outputs": [],
   "source": [
    "import pandas as pd\n",
    "import numpy as np\n",
    "import matplotlib.pyplot as plt\n",
    "import seaborn as sns"
   ]
  },
  {
   "cell_type": "markdown",
   "metadata": {},
   "source": [
    "1) В ноутбуці завантаж таблицю з файлу applications.csv в Pandas DataFrame та почисти дані"
   ]
  },
  {
   "cell_type": "code",
   "execution_count": 2,
   "metadata": {},
   "outputs": [],
   "source": [
    "import warnings\n",
    "\n",
    "warnings.filterwarnings(\"ignore\")"
   ]
  },
  {
   "cell_type": "code",
   "execution_count": 3,
   "metadata": {},
   "outputs": [
    {
     "data": {
      "text/html": [
       "<div>\n",
       "<style scoped>\n",
       "    .dataframe tbody tr th:only-of-type {\n",
       "        vertical-align: middle;\n",
       "    }\n",
       "\n",
       "    .dataframe tbody tr th {\n",
       "        vertical-align: top;\n",
       "    }\n",
       "\n",
       "    .dataframe thead th {\n",
       "        text-align: right;\n",
       "    }\n",
       "</style>\n",
       "<table border=\"1\" class=\"dataframe\">\n",
       "  <thead>\n",
       "    <tr style=\"text-align: right;\">\n",
       "      <th></th>\n",
       "      <th>Applied at</th>\n",
       "      <th>Amount</th>\n",
       "      <th>Age</th>\n",
       "      <th>Gender</th>\n",
       "      <th>Industry</th>\n",
       "      <th>Marital status</th>\n",
       "      <th>External Rating</th>\n",
       "      <th>Education level</th>\n",
       "      <th>Location</th>\n",
       "      <th>applicant_id</th>\n",
       "    </tr>\n",
       "  </thead>\n",
       "  <tbody>\n",
       "    <tr>\n",
       "      <th>0</th>\n",
       "      <td>11.30.2022 10:26:37</td>\n",
       "      <td>12000.0</td>\n",
       "      <td>29</td>\n",
       "      <td>Чоловік</td>\n",
       "      <td>Blockchain</td>\n",
       "      <td>Other</td>\n",
       "      <td>8.0</td>\n",
       "      <td>Вища (бакалавр, спеціаліст, магістр)</td>\n",
       "      <td>Івано-Франківськ чи область</td>\n",
       "      <td>99e7b0dc6cc05dd334d8f38dc26ce9b3</td>\n",
       "    </tr>\n",
       "    <tr>\n",
       "      <th>1</th>\n",
       "      <td>11.30.2022 10:26:39</td>\n",
       "      <td>NaN</td>\n",
       "      <td>36</td>\n",
       "      <td>Чоловік</td>\n",
       "      <td>Public services / Government</td>\n",
       "      <td>Single</td>\n",
       "      <td>3.0</td>\n",
       "      <td>Вища (бакалавр, спеціаліст, магістр)</td>\n",
       "      <td>NaN</td>\n",
       "      <td>63dfcf8e6904186650d6814279fbe42f</td>\n",
       "    </tr>\n",
       "    <tr>\n",
       "      <th>2</th>\n",
       "      <td>11.30.2022 10:26:58</td>\n",
       "      <td>7500.0</td>\n",
       "      <td>34</td>\n",
       "      <td>Чоловік</td>\n",
       "      <td>Adtech / Advertising</td>\n",
       "      <td>Single</td>\n",
       "      <td>4.0</td>\n",
       "      <td>Вища (бакалавр, спеціаліст, магістр)</td>\n",
       "      <td>Київ чи область</td>\n",
       "      <td>10dbafaeb46c09e96b6987c03bbb3498</td>\n",
       "    </tr>\n",
       "    <tr>\n",
       "      <th>3</th>\n",
       "      <td>11.30.2022 10:27:31</td>\n",
       "      <td>1500.0</td>\n",
       "      <td>23</td>\n",
       "      <td>Жінка</td>\n",
       "      <td>Telecom</td>\n",
       "      <td>Single</td>\n",
       "      <td>0.0</td>\n",
       "      <td>Вища (бакалавр, спеціаліст, магістр)</td>\n",
       "      <td>Львів чи область</td>\n",
       "      <td>5847ac62cc9eac5e323c2517dcc91ad1</td>\n",
       "    </tr>\n",
       "    <tr>\n",
       "      <th>4</th>\n",
       "      <td>11.30.2022 10:27:34</td>\n",
       "      <td>8400.0</td>\n",
       "      <td>33</td>\n",
       "      <td>Жінка</td>\n",
       "      <td>Automotive</td>\n",
       "      <td>Single</td>\n",
       "      <td>6.0</td>\n",
       "      <td>Вища (бакалавр, спеціаліст, магістр)</td>\n",
       "      <td>Житомир чи область</td>\n",
       "      <td>5d21f3795b50de8e8f8f8d5f48b754f3</td>\n",
       "    </tr>\n",
       "  </tbody>\n",
       "</table>\n",
       "</div>"
      ],
      "text/plain": [
       "            Applied at   Amount  Age   Gender                      Industry  \\\n",
       "0  11.30.2022 10:26:37  12000.0   29  Чоловік                    Blockchain   \n",
       "1  11.30.2022 10:26:39      NaN   36  Чоловік  Public services / Government   \n",
       "2  11.30.2022 10:26:58   7500.0   34  Чоловік          Adtech / Advertising   \n",
       "3  11.30.2022 10:27:31   1500.0   23    Жінка                       Telecom   \n",
       "4  11.30.2022 10:27:34   8400.0   33    Жінка                    Automotive   \n",
       "\n",
       "  Marital status  External Rating                       Education level  \\\n",
       "0          Other              8.0  Вища (бакалавр, спеціаліст, магістр)   \n",
       "1         Single              3.0  Вища (бакалавр, спеціаліст, магістр)   \n",
       "2         Single              4.0  Вища (бакалавр, спеціаліст, магістр)   \n",
       "3         Single              0.0  Вища (бакалавр, спеціаліст, магістр)   \n",
       "4         Single              6.0  Вища (бакалавр, спеціаліст, магістр)   \n",
       "\n",
       "                      Location                      applicant_id  \n",
       "0  Івано-Франківськ чи область  99e7b0dc6cc05dd334d8f38dc26ce9b3  \n",
       "1                          NaN  63dfcf8e6904186650d6814279fbe42f  \n",
       "2              Київ чи область  10dbafaeb46c09e96b6987c03bbb3498  \n",
       "3             Львів чи область  5847ac62cc9eac5e323c2517dcc91ad1  \n",
       "4           Житомир чи область  5d21f3795b50de8e8f8f8d5f48b754f3  "
      ]
     },
     "execution_count": 3,
     "metadata": {},
     "output_type": "execute_result"
    }
   ],
   "source": [
    "df = pd.read_csv('K:/Data Analitics learning/Python/data set for HW6/applications.csv')\n",
    "df.head(5)"
   ]
  },
  {
   "cell_type": "code",
   "execution_count": 4,
   "metadata": {},
   "outputs": [
    {
     "data": {
      "text/html": [
       "<div>\n",
       "<style scoped>\n",
       "    .dataframe tbody tr th:only-of-type {\n",
       "        vertical-align: middle;\n",
       "    }\n",
       "\n",
       "    .dataframe tbody tr th {\n",
       "        vertical-align: top;\n",
       "    }\n",
       "\n",
       "    .dataframe thead th {\n",
       "        text-align: right;\n",
       "    }\n",
       "</style>\n",
       "<table border=\"1\" class=\"dataframe\">\n",
       "  <thead>\n",
       "    <tr style=\"text-align: right;\">\n",
       "      <th></th>\n",
       "      <th>Amount</th>\n",
       "      <th>Age</th>\n",
       "      <th>External Rating</th>\n",
       "    </tr>\n",
       "  </thead>\n",
       "  <tbody>\n",
       "    <tr>\n",
       "      <th>count</th>\n",
       "      <td>13272.000000</td>\n",
       "      <td>13315.000000</td>\n",
       "      <td>13243.000000</td>\n",
       "    </tr>\n",
       "    <tr>\n",
       "      <th>mean</th>\n",
       "      <td>9034.665913</td>\n",
       "      <td>29.318288</td>\n",
       "      <td>4.882202</td>\n",
       "    </tr>\n",
       "    <tr>\n",
       "      <th>std</th>\n",
       "      <td>6168.343738</td>\n",
       "      <td>6.031209</td>\n",
       "      <td>3.738651</td>\n",
       "    </tr>\n",
       "    <tr>\n",
       "      <th>min</th>\n",
       "      <td>150.000000</td>\n",
       "      <td>14.000000</td>\n",
       "      <td>0.000000</td>\n",
       "    </tr>\n",
       "    <tr>\n",
       "      <th>25%</th>\n",
       "      <td>3900.000000</td>\n",
       "      <td>25.000000</td>\n",
       "      <td>2.000000</td>\n",
       "    </tr>\n",
       "    <tr>\n",
       "      <th>50%</th>\n",
       "      <td>7800.000000</td>\n",
       "      <td>29.000000</td>\n",
       "      <td>4.000000</td>\n",
       "    </tr>\n",
       "    <tr>\n",
       "      <th>75%</th>\n",
       "      <td>12900.000000</td>\n",
       "      <td>33.000000</td>\n",
       "      <td>7.000000</td>\n",
       "    </tr>\n",
       "    <tr>\n",
       "      <th>max</th>\n",
       "      <td>58500.000000</td>\n",
       "      <td>63.000000</td>\n",
       "      <td>15.000000</td>\n",
       "    </tr>\n",
       "  </tbody>\n",
       "</table>\n",
       "</div>"
      ],
      "text/plain": [
       "             Amount           Age  External Rating\n",
       "count  13272.000000  13315.000000     13243.000000\n",
       "mean    9034.665913     29.318288         4.882202\n",
       "std     6168.343738      6.031209         3.738651\n",
       "min      150.000000     14.000000         0.000000\n",
       "25%     3900.000000     25.000000         2.000000\n",
       "50%     7800.000000     29.000000         4.000000\n",
       "75%    12900.000000     33.000000         7.000000\n",
       "max    58500.000000     63.000000        15.000000"
      ]
     },
     "execution_count": 4,
     "metadata": {},
     "output_type": "execute_result"
    }
   ],
   "source": [
    "df.describe()"
   ]
  },
  {
   "cell_type": "code",
   "execution_count": 5,
   "metadata": {},
   "outputs": [
    {
     "data": {
      "text/plain": [
       "(13315, 10)"
      ]
     },
     "execution_count": 5,
     "metadata": {},
     "output_type": "execute_result"
    }
   ],
   "source": [
    "df.shape"
   ]
  },
  {
   "cell_type": "code",
   "execution_count": 6,
   "metadata": {},
   "outputs": [
    {
     "data": {
      "text/plain": [
       "Index(['Applied at', 'Amount', 'Age', 'Gender', 'Industry', 'Marital status',\n",
       "       'External Rating', 'Education level', 'Location', 'applicant_id'],\n",
       "      dtype='object')"
      ]
     },
     "execution_count": 6,
     "metadata": {},
     "output_type": "execute_result"
    }
   ],
   "source": [
    "df.columns"
   ]
  },
  {
   "cell_type": "code",
   "execution_count": 7,
   "metadata": {},
   "outputs": [
    {
     "data": {
      "text/plain": [
       "Applied at          object\n",
       "Amount             float64\n",
       "Age                  int64\n",
       "Gender              object\n",
       "Industry            object\n",
       "Marital status      object\n",
       "External Rating    float64\n",
       "Education level     object\n",
       "Location            object\n",
       "applicant_id        object\n",
       "dtype: object"
      ]
     },
     "execution_count": 7,
     "metadata": {},
     "output_type": "execute_result"
    }
   ],
   "source": [
    "df.dtypes"
   ]
  },
  {
   "cell_type": "markdown",
   "metadata": {},
   "source": [
    "Прибери дублікати applicant_id"
   ]
  },
  {
   "cell_type": "code",
   "execution_count": 8,
   "metadata": {},
   "outputs": [
    {
     "data": {
      "text/plain": [
       "(13278, 10)"
      ]
     },
     "execution_count": 8,
     "metadata": {},
     "output_type": "execute_result"
    }
   ],
   "source": [
    "# df = df.drop_duplicates(subset='id')\n",
    "df = df.drop_duplicates(subset='applicant_id')\n",
    "df.shape"
   ]
  },
  {
   "cell_type": "markdown",
   "metadata": {},
   "source": [
    "В полі 'External Rating' заповни відсутні значення нулями"
   ]
  },
  {
   "cell_type": "code",
   "execution_count": 9,
   "metadata": {},
   "outputs": [
    {
     "data": {
      "text/plain": [
       "72"
      ]
     },
     "execution_count": 9,
     "metadata": {},
     "output_type": "execute_result"
    }
   ],
   "source": [
    "# Рахуємо кількість NaN у стовбчику 'External Rating'\n",
    "df['External Rating'].isna().sum()"
   ]
  },
  {
   "cell_type": "code",
   "execution_count": 10,
   "metadata": {},
   "outputs": [],
   "source": [
    "# Використовуваєм метод fillna()\n",
    "df['External Rating'] = df['External Rating'].fillna(0)"
   ]
  },
  {
   "cell_type": "code",
   "execution_count": 11,
   "metadata": {},
   "outputs": [
    {
     "data": {
      "text/plain": [
       "0"
      ]
     },
     "execution_count": 11,
     "metadata": {},
     "output_type": "execute_result"
    }
   ],
   "source": [
    "# перевіряєм\n",
    "df['External Rating'].isna().sum()"
   ]
  },
  {
   "cell_type": "markdown",
   "metadata": {},
   "source": [
    "В полі 'Education level' заповни відсутні значення текстом “Середня”"
   ]
  },
  {
   "cell_type": "code",
   "execution_count": 12,
   "metadata": {},
   "outputs": [
    {
     "data": {
      "text/plain": [
       "33"
      ]
     },
     "execution_count": 12,
     "metadata": {},
     "output_type": "execute_result"
    }
   ],
   "source": [
    "# Рахуємо кількість NaN у стовбчику 'Education level'\n",
    "df['Education level'].isna().sum()"
   ]
  },
  {
   "cell_type": "code",
   "execution_count": 13,
   "metadata": {},
   "outputs": [
    {
     "data": {
      "text/plain": [
       "array(['Вища (бакалавр, спеціаліст, магістр)', 'Ще студент вишу',\n",
       "       'Середня спеціальна', 'Середня', 'Дві вищі', nan], dtype=object)"
      ]
     },
     "execution_count": 13,
     "metadata": {},
     "output_type": "execute_result"
    }
   ],
   "source": [
    "df['Education level'].unique()"
   ]
  },
  {
   "cell_type": "code",
   "execution_count": 14,
   "metadata": {},
   "outputs": [],
   "source": [
    "# Використовуваєм метод fillna()\n",
    "df['Education level']= df['Education level'].fillna('Середня')"
   ]
  },
  {
   "cell_type": "code",
   "execution_count": 15,
   "metadata": {},
   "outputs": [
    {
     "data": {
      "text/plain": [
       "0"
      ]
     },
     "execution_count": 15,
     "metadata": {},
     "output_type": "execute_result"
    }
   ],
   "source": [
    "# перевірка перша\n",
    "df['Education level'].isna().sum()"
   ]
  },
  {
   "cell_type": "code",
   "execution_count": 16,
   "metadata": {},
   "outputs": [
    {
     "data": {
      "text/plain": [
       "array(['Вища (бакалавр, спеціаліст, магістр)', 'Ще студент вишу',\n",
       "       'Середня спеціальна', 'Середня', 'Дві вищі'], dtype=object)"
      ]
     },
     "metadata": {},
     "output_type": "display_data"
    },
    {
     "data": {
      "text/plain": [
       "array([ 8.,  3.,  4.,  0.,  6.,  1.,  2.,  5., 10., 11.,  7., 15., 12.,\n",
       "        9., 14., 13.])"
      ]
     },
     "metadata": {},
     "output_type": "display_data"
    }
   ],
   "source": [
    "# перевірка друга  - що дані відновились і записались в таблиці\n",
    "display(df['Education level'].unique(), df['External Rating'].unique())"
   ]
  },
  {
   "cell_type": "markdown",
   "metadata": {},
   "source": [
    "Додай до цього DataFrame дані з файлу industries.csv, а саме, рейтинги індустрій"
   ]
  },
  {
   "cell_type": "code",
   "execution_count": 17,
   "metadata": {},
   "outputs": [
    {
     "data": {
      "text/html": [
       "<div>\n",
       "<style scoped>\n",
       "    .dataframe tbody tr th:only-of-type {\n",
       "        vertical-align: middle;\n",
       "    }\n",
       "\n",
       "    .dataframe tbody tr th {\n",
       "        vertical-align: top;\n",
       "    }\n",
       "\n",
       "    .dataframe thead th {\n",
       "        text-align: right;\n",
       "    }\n",
       "</style>\n",
       "<table border=\"1\" class=\"dataframe\">\n",
       "  <thead>\n",
       "    <tr style=\"text-align: right;\">\n",
       "      <th></th>\n",
       "      <th>Applied at</th>\n",
       "      <th>Amount</th>\n",
       "      <th>Age</th>\n",
       "      <th>Gender</th>\n",
       "      <th>Industry</th>\n",
       "      <th>Marital status</th>\n",
       "      <th>External Rating</th>\n",
       "      <th>Education level</th>\n",
       "      <th>Location</th>\n",
       "      <th>applicant_id</th>\n",
       "    </tr>\n",
       "  </thead>\n",
       "  <tbody>\n",
       "    <tr>\n",
       "      <th>0</th>\n",
       "      <td>11.30.2022 10:26:37</td>\n",
       "      <td>12000.0</td>\n",
       "      <td>29</td>\n",
       "      <td>Чоловік</td>\n",
       "      <td>Blockchain</td>\n",
       "      <td>Other</td>\n",
       "      <td>8.0</td>\n",
       "      <td>Вища (бакалавр, спеціаліст, магістр)</td>\n",
       "      <td>Івано-Франківськ чи область</td>\n",
       "      <td>99e7b0dc6cc05dd334d8f38dc26ce9b3</td>\n",
       "    </tr>\n",
       "    <tr>\n",
       "      <th>1</th>\n",
       "      <td>11.30.2022 10:26:39</td>\n",
       "      <td>NaN</td>\n",
       "      <td>36</td>\n",
       "      <td>Чоловік</td>\n",
       "      <td>Public services / Government</td>\n",
       "      <td>Single</td>\n",
       "      <td>3.0</td>\n",
       "      <td>Вища (бакалавр, спеціаліст, магістр)</td>\n",
       "      <td>NaN</td>\n",
       "      <td>63dfcf8e6904186650d6814279fbe42f</td>\n",
       "    </tr>\n",
       "    <tr>\n",
       "      <th>2</th>\n",
       "      <td>11.30.2022 10:26:58</td>\n",
       "      <td>7500.0</td>\n",
       "      <td>34</td>\n",
       "      <td>Чоловік</td>\n",
       "      <td>Adtech / Advertising</td>\n",
       "      <td>Single</td>\n",
       "      <td>4.0</td>\n",
       "      <td>Вища (бакалавр, спеціаліст, магістр)</td>\n",
       "      <td>Київ чи область</td>\n",
       "      <td>10dbafaeb46c09e96b6987c03bbb3498</td>\n",
       "    </tr>\n",
       "    <tr>\n",
       "      <th>3</th>\n",
       "      <td>11.30.2022 10:27:31</td>\n",
       "      <td>1500.0</td>\n",
       "      <td>23</td>\n",
       "      <td>Жінка</td>\n",
       "      <td>Telecom</td>\n",
       "      <td>Single</td>\n",
       "      <td>0.0</td>\n",
       "      <td>Вища (бакалавр, спеціаліст, магістр)</td>\n",
       "      <td>Львів чи область</td>\n",
       "      <td>5847ac62cc9eac5e323c2517dcc91ad1</td>\n",
       "    </tr>\n",
       "    <tr>\n",
       "      <th>4</th>\n",
       "      <td>11.30.2022 10:27:34</td>\n",
       "      <td>8400.0</td>\n",
       "      <td>33</td>\n",
       "      <td>Жінка</td>\n",
       "      <td>Automotive</td>\n",
       "      <td>Single</td>\n",
       "      <td>6.0</td>\n",
       "      <td>Вища (бакалавр, спеціаліст, магістр)</td>\n",
       "      <td>Житомир чи область</td>\n",
       "      <td>5d21f3795b50de8e8f8f8d5f48b754f3</td>\n",
       "    </tr>\n",
       "  </tbody>\n",
       "</table>\n",
       "</div>"
      ],
      "text/plain": [
       "            Applied at   Amount  Age   Gender                      Industry  \\\n",
       "0  11.30.2022 10:26:37  12000.0   29  Чоловік                    Blockchain   \n",
       "1  11.30.2022 10:26:39      NaN   36  Чоловік  Public services / Government   \n",
       "2  11.30.2022 10:26:58   7500.0   34  Чоловік          Adtech / Advertising   \n",
       "3  11.30.2022 10:27:31   1500.0   23    Жінка                       Telecom   \n",
       "4  11.30.2022 10:27:34   8400.0   33    Жінка                    Automotive   \n",
       "\n",
       "  Marital status  External Rating                       Education level  \\\n",
       "0          Other              8.0  Вища (бакалавр, спеціаліст, магістр)   \n",
       "1         Single              3.0  Вища (бакалавр, спеціаліст, магістр)   \n",
       "2         Single              4.0  Вища (бакалавр, спеціаліст, магістр)   \n",
       "3         Single              0.0  Вища (бакалавр, спеціаліст, магістр)   \n",
       "4         Single              6.0  Вища (бакалавр, спеціаліст, магістр)   \n",
       "\n",
       "                      Location                      applicant_id  \n",
       "0  Івано-Франківськ чи область  99e7b0dc6cc05dd334d8f38dc26ce9b3  \n",
       "1                          NaN  63dfcf8e6904186650d6814279fbe42f  \n",
       "2              Київ чи область  10dbafaeb46c09e96b6987c03bbb3498  \n",
       "3             Львів чи область  5847ac62cc9eac5e323c2517dcc91ad1  \n",
       "4           Житомир чи область  5d21f3795b50de8e8f8f8d5f48b754f3  "
      ]
     },
     "execution_count": 17,
     "metadata": {},
     "output_type": "execute_result"
    }
   ],
   "source": [
    "# для зручності перейміновуємо датафрейм\n",
    "app = df\n",
    "app.head(5)"
   ]
  },
  {
   "cell_type": "code",
   "execution_count": 18,
   "metadata": {},
   "outputs": [
    {
     "data": {
      "text/html": [
       "<div>\n",
       "<style scoped>\n",
       "    .dataframe tbody tr th:only-of-type {\n",
       "        vertical-align: middle;\n",
       "    }\n",
       "\n",
       "    .dataframe tbody tr th {\n",
       "        vertical-align: top;\n",
       "    }\n",
       "\n",
       "    .dataframe thead th {\n",
       "        text-align: right;\n",
       "    }\n",
       "</style>\n",
       "<table border=\"1\" class=\"dataframe\">\n",
       "  <thead>\n",
       "    <tr style=\"text-align: right;\">\n",
       "      <th></th>\n",
       "      <th>Industry</th>\n",
       "      <th>Score</th>\n",
       "    </tr>\n",
       "  </thead>\n",
       "  <tbody>\n",
       "    <tr>\n",
       "      <th>0</th>\n",
       "      <td>Blockchain</td>\n",
       "      <td>0</td>\n",
       "    </tr>\n",
       "    <tr>\n",
       "      <th>1</th>\n",
       "      <td>Public services / Government</td>\n",
       "      <td>20</td>\n",
       "    </tr>\n",
       "    <tr>\n",
       "      <th>2</th>\n",
       "      <td>Adtech / Advertising</td>\n",
       "      <td>10</td>\n",
       "    </tr>\n",
       "    <tr>\n",
       "      <th>3</th>\n",
       "      <td>Telecom</td>\n",
       "      <td>15</td>\n",
       "    </tr>\n",
       "    <tr>\n",
       "      <th>4</th>\n",
       "      <td>Automotive</td>\n",
       "      <td>15</td>\n",
       "    </tr>\n",
       "  </tbody>\n",
       "</table>\n",
       "</div>"
      ],
      "text/plain": [
       "                       Industry  Score\n",
       "0                    Blockchain      0\n",
       "1  Public services / Government     20\n",
       "2          Adtech / Advertising     10\n",
       "3                       Telecom     15\n",
       "4                    Automotive     15"
      ]
     },
     "metadata": {},
     "output_type": "display_data"
    },
    {
     "data": {
      "text/plain": [
       "Industry    object\n",
       "Score        int64\n",
       "dtype: object"
      ]
     },
     "metadata": {},
     "output_type": "display_data"
    }
   ],
   "source": [
    "# завантажуємо файл industries.csv\n",
    "indus = pd.read_csv('K:/Data Analitics learning/Python/data set for HW6/industries.csv')\n",
    "display(indus.head(5),indus.dtypes)"
   ]
  },
  {
   "cell_type": "code",
   "execution_count": 19,
   "metadata": {},
   "outputs": [
    {
     "data": {
      "text/html": [
       "<div>\n",
       "<style scoped>\n",
       "    .dataframe tbody tr th:only-of-type {\n",
       "        vertical-align: middle;\n",
       "    }\n",
       "\n",
       "    .dataframe tbody tr th {\n",
       "        vertical-align: top;\n",
       "    }\n",
       "\n",
       "    .dataframe thead th {\n",
       "        text-align: right;\n",
       "    }\n",
       "</style>\n",
       "<table border=\"1\" class=\"dataframe\">\n",
       "  <thead>\n",
       "    <tr style=\"text-align: right;\">\n",
       "      <th></th>\n",
       "      <th>Industry</th>\n",
       "      <th>Score</th>\n",
       "      <th>Applied at</th>\n",
       "      <th>Amount</th>\n",
       "      <th>Age</th>\n",
       "      <th>Gender</th>\n",
       "      <th>Marital status</th>\n",
       "      <th>External Rating</th>\n",
       "      <th>Education level</th>\n",
       "      <th>Location</th>\n",
       "      <th>applicant_id</th>\n",
       "    </tr>\n",
       "  </thead>\n",
       "  <tbody>\n",
       "    <tr>\n",
       "      <th>0</th>\n",
       "      <td>Blockchain</td>\n",
       "      <td>0</td>\n",
       "      <td>11.30.2022 10:26:37</td>\n",
       "      <td>12000.0</td>\n",
       "      <td>29</td>\n",
       "      <td>Чоловік</td>\n",
       "      <td>Other</td>\n",
       "      <td>8.0</td>\n",
       "      <td>Вища (бакалавр, спеціаліст, магістр)</td>\n",
       "      <td>Івано-Франківськ чи область</td>\n",
       "      <td>99e7b0dc6cc05dd334d8f38dc26ce9b3</td>\n",
       "    </tr>\n",
       "    <tr>\n",
       "      <th>1</th>\n",
       "      <td>Blockchain</td>\n",
       "      <td>0</td>\n",
       "      <td>11.30.2022 10:30:00</td>\n",
       "      <td>NaN</td>\n",
       "      <td>22</td>\n",
       "      <td>Чоловік</td>\n",
       "      <td>Single</td>\n",
       "      <td>2.0</td>\n",
       "      <td>Ще студент вишу</td>\n",
       "      <td>NaN</td>\n",
       "      <td>bef0a5ba4df413cb8e1e3edeaf1f7de3</td>\n",
       "    </tr>\n",
       "    <tr>\n",
       "      <th>2</th>\n",
       "      <td>Blockchain</td>\n",
       "      <td>0</td>\n",
       "      <td>11.30.2022 10:36:59</td>\n",
       "      <td>30000.0</td>\n",
       "      <td>29</td>\n",
       "      <td>Чоловік</td>\n",
       "      <td>Single</td>\n",
       "      <td>7.0</td>\n",
       "      <td>Вища (бакалавр, спеціаліст, магістр)</td>\n",
       "      <td>Київ чи область</td>\n",
       "      <td>d85404bd5576f05b711ad56cad428463</td>\n",
       "    </tr>\n",
       "    <tr>\n",
       "      <th>3</th>\n",
       "      <td>Blockchain</td>\n",
       "      <td>0</td>\n",
       "      <td>11.30.2022 10:44:28</td>\n",
       "      <td>16050.0</td>\n",
       "      <td>50</td>\n",
       "      <td>Чоловік</td>\n",
       "      <td>Other</td>\n",
       "      <td>15.0</td>\n",
       "      <td>Вища (бакалавр, спеціаліст, магістр)</td>\n",
       "      <td>Київ чи область</td>\n",
       "      <td>667563fc9922d71c7c2bfa8e9fba9fbc</td>\n",
       "    </tr>\n",
       "    <tr>\n",
       "      <th>4</th>\n",
       "      <td>Blockchain</td>\n",
       "      <td>0</td>\n",
       "      <td>11.30.2022 10:46:30</td>\n",
       "      <td>8550.0</td>\n",
       "      <td>40</td>\n",
       "      <td>Чоловік</td>\n",
       "      <td>Married</td>\n",
       "      <td>1.0</td>\n",
       "      <td>Вища (бакалавр, спеціаліст, магістр)</td>\n",
       "      <td>Одеса чи область</td>\n",
       "      <td>056d0a80808828a4d4017224fd17491e</td>\n",
       "    </tr>\n",
       "  </tbody>\n",
       "</table>\n",
       "</div>"
      ],
      "text/plain": [
       "     Industry  Score           Applied at   Amount  Age   Gender  \\\n",
       "0  Blockchain      0  11.30.2022 10:26:37  12000.0   29  Чоловік   \n",
       "1  Blockchain      0  11.30.2022 10:30:00      NaN   22  Чоловік   \n",
       "2  Blockchain      0  11.30.2022 10:36:59  30000.0   29  Чоловік   \n",
       "3  Blockchain      0  11.30.2022 10:44:28  16050.0   50  Чоловік   \n",
       "4  Blockchain      0  11.30.2022 10:46:30   8550.0   40  Чоловік   \n",
       "\n",
       "  Marital status  External Rating                       Education level  \\\n",
       "0          Other              8.0  Вища (бакалавр, спеціаліст, магістр)   \n",
       "1         Single              2.0                       Ще студент вишу   \n",
       "2         Single              7.0  Вища (бакалавр, спеціаліст, магістр)   \n",
       "3          Other             15.0  Вища (бакалавр, спеціаліст, магістр)   \n",
       "4        Married              1.0  Вища (бакалавр, спеціаліст, магістр)   \n",
       "\n",
       "                      Location                      applicant_id  \n",
       "0  Івано-Франківськ чи область  99e7b0dc6cc05dd334d8f38dc26ce9b3  \n",
       "1                          NaN  bef0a5ba4df413cb8e1e3edeaf1f7de3  \n",
       "2              Київ чи область  d85404bd5576f05b711ad56cad428463  \n",
       "3              Київ чи область  667563fc9922d71c7c2bfa8e9fba9fbc  \n",
       "4             Одеса чи область  056d0a80808828a4d4017224fd17491e  "
      ]
     },
     "execution_count": 19,
     "metadata": {},
     "output_type": "execute_result"
    }
   ],
   "source": [
    "# джоінемо (inner join) по стовбчику 'Industry'\n",
    "Merjed_df = pd.merge(indus, app, how='inner', on='Industry')\n",
    "Merjed_df.head()"
   ]
  },
  {
   "cell_type": "markdown",
   "metadata": {},
   "source": [
    "Розрахуй рейтинг заявки за наступними умовами:"
   ]
  },
  {
   "cell_type": "markdown",
   "metadata": {},
   "source": [
    "Якщо вік заявщика між 35 та 55, до рейтингу додається 20 балів"
   ]
  },
  {
   "cell_type": "code",
   "execution_count": 20,
   "metadata": {},
   "outputs": [
    {
     "data": {
      "text/html": [
       "<div>\n",
       "<style scoped>\n",
       "    .dataframe tbody tr th:only-of-type {\n",
       "        vertical-align: middle;\n",
       "    }\n",
       "\n",
       "    .dataframe tbody tr th {\n",
       "        vertical-align: top;\n",
       "    }\n",
       "\n",
       "    .dataframe thead th {\n",
       "        text-align: right;\n",
       "    }\n",
       "</style>\n",
       "<table border=\"1\" class=\"dataframe\">\n",
       "  <thead>\n",
       "    <tr style=\"text-align: right;\">\n",
       "      <th></th>\n",
       "      <th>Industry</th>\n",
       "      <th>Score</th>\n",
       "      <th>Applied at</th>\n",
       "      <th>Amount</th>\n",
       "      <th>Age</th>\n",
       "      <th>Gender</th>\n",
       "      <th>Marital status</th>\n",
       "      <th>External Rating</th>\n",
       "      <th>Education level</th>\n",
       "      <th>Location</th>\n",
       "      <th>applicant_id</th>\n",
       "    </tr>\n",
       "  </thead>\n",
       "  <tbody>\n",
       "    <tr>\n",
       "      <th>0</th>\n",
       "      <td>Blockchain</td>\n",
       "      <td>0</td>\n",
       "      <td>11.30.2022 10:26:37</td>\n",
       "      <td>12000.0</td>\n",
       "      <td>29</td>\n",
       "      <td>Чоловік</td>\n",
       "      <td>Other</td>\n",
       "      <td>8.0</td>\n",
       "      <td>Вища (бакалавр, спеціаліст, магістр)</td>\n",
       "      <td>Івано-Франківськ чи область</td>\n",
       "      <td>99e7b0dc6cc05dd334d8f38dc26ce9b3</td>\n",
       "    </tr>\n",
       "    <tr>\n",
       "      <th>1</th>\n",
       "      <td>Blockchain</td>\n",
       "      <td>0</td>\n",
       "      <td>11.30.2022 10:30:00</td>\n",
       "      <td>NaN</td>\n",
       "      <td>22</td>\n",
       "      <td>Чоловік</td>\n",
       "      <td>Single</td>\n",
       "      <td>2.0</td>\n",
       "      <td>Ще студент вишу</td>\n",
       "      <td>NaN</td>\n",
       "      <td>bef0a5ba4df413cb8e1e3edeaf1f7de3</td>\n",
       "    </tr>\n",
       "    <tr>\n",
       "      <th>2</th>\n",
       "      <td>Blockchain</td>\n",
       "      <td>0</td>\n",
       "      <td>11.30.2022 10:36:59</td>\n",
       "      <td>30000.0</td>\n",
       "      <td>29</td>\n",
       "      <td>Чоловік</td>\n",
       "      <td>Single</td>\n",
       "      <td>7.0</td>\n",
       "      <td>Вища (бакалавр, спеціаліст, магістр)</td>\n",
       "      <td>Київ чи область</td>\n",
       "      <td>d85404bd5576f05b711ad56cad428463</td>\n",
       "    </tr>\n",
       "    <tr>\n",
       "      <th>3</th>\n",
       "      <td>Blockchain</td>\n",
       "      <td>20</td>\n",
       "      <td>11.30.2022 10:44:28</td>\n",
       "      <td>16050.0</td>\n",
       "      <td>50</td>\n",
       "      <td>Чоловік</td>\n",
       "      <td>Other</td>\n",
       "      <td>15.0</td>\n",
       "      <td>Вища (бакалавр, спеціаліст, магістр)</td>\n",
       "      <td>Київ чи область</td>\n",
       "      <td>667563fc9922d71c7c2bfa8e9fba9fbc</td>\n",
       "    </tr>\n",
       "    <tr>\n",
       "      <th>4</th>\n",
       "      <td>Blockchain</td>\n",
       "      <td>20</td>\n",
       "      <td>11.30.2022 10:46:30</td>\n",
       "      <td>8550.0</td>\n",
       "      <td>40</td>\n",
       "      <td>Чоловік</td>\n",
       "      <td>Married</td>\n",
       "      <td>1.0</td>\n",
       "      <td>Вища (бакалавр, спеціаліст, магістр)</td>\n",
       "      <td>Одеса чи область</td>\n",
       "      <td>056d0a80808828a4d4017224fd17491e</td>\n",
       "    </tr>\n",
       "  </tbody>\n",
       "</table>\n",
       "</div>"
      ],
      "text/plain": [
       "     Industry  Score           Applied at   Amount  Age   Gender  \\\n",
       "0  Blockchain      0  11.30.2022 10:26:37  12000.0   29  Чоловік   \n",
       "1  Blockchain      0  11.30.2022 10:30:00      NaN   22  Чоловік   \n",
       "2  Blockchain      0  11.30.2022 10:36:59  30000.0   29  Чоловік   \n",
       "3  Blockchain     20  11.30.2022 10:44:28  16050.0   50  Чоловік   \n",
       "4  Blockchain     20  11.30.2022 10:46:30   8550.0   40  Чоловік   \n",
       "\n",
       "  Marital status  External Rating                       Education level  \\\n",
       "0          Other              8.0  Вища (бакалавр, спеціаліст, магістр)   \n",
       "1         Single              2.0                       Ще студент вишу   \n",
       "2         Single              7.0  Вища (бакалавр, спеціаліст, магістр)   \n",
       "3          Other             15.0  Вища (бакалавр, спеціаліст, магістр)   \n",
       "4        Married              1.0  Вища (бакалавр, спеціаліст, магістр)   \n",
       "\n",
       "                      Location                      applicant_id  \n",
       "0  Івано-Франківськ чи область  99e7b0dc6cc05dd334d8f38dc26ce9b3  \n",
       "1                          NaN  bef0a5ba4df413cb8e1e3edeaf1f7de3  \n",
       "2              Київ чи область  d85404bd5576f05b711ad56cad428463  \n",
       "3              Київ чи область  667563fc9922d71c7c2bfa8e9fba9fbc  \n",
       "4             Одеса чи область  056d0a80808828a4d4017224fd17491e  "
      ]
     },
     "execution_count": 20,
     "metadata": {},
     "output_type": "execute_result"
    }
   ],
   "source": [
    "Merjed_df.loc[(Merjed_df['Age'] >= 35) & (Merjed_df['Age'] <= 55), 'Score']+=20\n",
    "Merjed_df.head()"
   ]
  },
  {
   "cell_type": "markdown",
   "metadata": {},
   "source": [
    "Якщо заявка була подана не у вихідні, до рейтингу додається 20 балів"
   ]
  },
  {
   "cell_type": "code",
   "execution_count": 21,
   "metadata": {},
   "outputs": [],
   "source": [
    "# перетворюємо в формат DATETIME\n",
    "Merjed_df['Applied at'] = pd.to_datetime(Merjed_df['Applied at'], format='mixed')"
   ]
  },
  {
   "cell_type": "code",
   "execution_count": 22,
   "metadata": {},
   "outputs": [
    {
     "data": {
      "text/plain": [
       "<DatetimeArray>\n",
       "['2022-11-30 10:26:37', '2022-11-30 10:30:00', '2022-11-30 10:36:59',\n",
       " '2022-11-30 10:44:28', '2022-11-30 10:46:30', '2022-11-30 10:48:36',\n",
       " '2022-11-30 10:48:58', '2022-11-30 10:50:22', '2022-11-30 10:58:52',\n",
       " '2022-11-30 11:15:34',\n",
       " ...\n",
       " '2023-01-05 11:48:00', '2023-01-05 11:54:00', '2022-11-30 12:24:29',\n",
       " '2022-11-30 19:26:10', '2022-11-30 21:27:10', '2022-12-03 23:14:00',\n",
       " '2022-12-04 12:53:00', '2022-12-07 16:24:00', '2022-12-14 11:13:46',\n",
       " '2022-12-26 09:09:22']\n",
       "Length: 10827, dtype: datetime64[ns]"
      ]
     },
     "execution_count": 22,
     "metadata": {},
     "output_type": "execute_result"
    }
   ],
   "source": [
    "Merjed_df[\"Applied at\"].unique()"
   ]
  },
  {
   "cell_type": "code",
   "execution_count": 23,
   "metadata": {},
   "outputs": [
    {
     "data": {
      "text/plain": [
       "array(['Wednesday', 'Thursday', 'Friday', 'Saturday', 'Sunday', 'Monday',\n",
       "       'Tuesday'], dtype=object)"
      ]
     },
     "execution_count": 23,
     "metadata": {},
     "output_type": "execute_result"
    }
   ],
   "source": [
    "Merjed_df['weekday'] = Merjed_df[\"Applied at\"].dt.day_name()\n",
    "Merjed_df['weekday'].unique()"
   ]
  },
  {
   "cell_type": "code",
   "execution_count": 24,
   "metadata": {},
   "outputs": [],
   "source": [
    "a=Merjed_df"
   ]
  },
  {
   "cell_type": "code",
   "execution_count": 25,
   "metadata": {},
   "outputs": [
    {
     "data": {
      "text/html": [
       "<div>\n",
       "<style scoped>\n",
       "    .dataframe tbody tr th:only-of-type {\n",
       "        vertical-align: middle;\n",
       "    }\n",
       "\n",
       "    .dataframe tbody tr th {\n",
       "        vertical-align: top;\n",
       "    }\n",
       "\n",
       "    .dataframe thead th {\n",
       "        text-align: right;\n",
       "    }\n",
       "</style>\n",
       "<table border=\"1\" class=\"dataframe\">\n",
       "  <thead>\n",
       "    <tr style=\"text-align: right;\">\n",
       "      <th></th>\n",
       "      <th>Industry</th>\n",
       "      <th>Score</th>\n",
       "      <th>Applied at</th>\n",
       "      <th>Amount</th>\n",
       "      <th>Age</th>\n",
       "      <th>Gender</th>\n",
       "      <th>Marital status</th>\n",
       "      <th>External Rating</th>\n",
       "      <th>Education level</th>\n",
       "      <th>Location</th>\n",
       "      <th>applicant_id</th>\n",
       "      <th>weekday</th>\n",
       "    </tr>\n",
       "  </thead>\n",
       "  <tbody>\n",
       "    <tr>\n",
       "      <th>0</th>\n",
       "      <td>Blockchain</td>\n",
       "      <td>20</td>\n",
       "      <td>2022-11-30 10:26:37</td>\n",
       "      <td>12000.0</td>\n",
       "      <td>29</td>\n",
       "      <td>Чоловік</td>\n",
       "      <td>Other</td>\n",
       "      <td>8.0</td>\n",
       "      <td>Вища (бакалавр, спеціаліст, магістр)</td>\n",
       "      <td>Івано-Франківськ чи область</td>\n",
       "      <td>99e7b0dc6cc05dd334d8f38dc26ce9b3</td>\n",
       "      <td>Wednesday</td>\n",
       "    </tr>\n",
       "    <tr>\n",
       "      <th>1</th>\n",
       "      <td>Blockchain</td>\n",
       "      <td>20</td>\n",
       "      <td>2022-11-30 10:30:00</td>\n",
       "      <td>NaN</td>\n",
       "      <td>22</td>\n",
       "      <td>Чоловік</td>\n",
       "      <td>Single</td>\n",
       "      <td>2.0</td>\n",
       "      <td>Ще студент вишу</td>\n",
       "      <td>NaN</td>\n",
       "      <td>bef0a5ba4df413cb8e1e3edeaf1f7de3</td>\n",
       "      <td>Wednesday</td>\n",
       "    </tr>\n",
       "    <tr>\n",
       "      <th>2</th>\n",
       "      <td>Blockchain</td>\n",
       "      <td>20</td>\n",
       "      <td>2022-11-30 10:36:59</td>\n",
       "      <td>30000.0</td>\n",
       "      <td>29</td>\n",
       "      <td>Чоловік</td>\n",
       "      <td>Single</td>\n",
       "      <td>7.0</td>\n",
       "      <td>Вища (бакалавр, спеціаліст, магістр)</td>\n",
       "      <td>Київ чи область</td>\n",
       "      <td>d85404bd5576f05b711ad56cad428463</td>\n",
       "      <td>Wednesday</td>\n",
       "    </tr>\n",
       "    <tr>\n",
       "      <th>3</th>\n",
       "      <td>Blockchain</td>\n",
       "      <td>40</td>\n",
       "      <td>2022-11-30 10:44:28</td>\n",
       "      <td>16050.0</td>\n",
       "      <td>50</td>\n",
       "      <td>Чоловік</td>\n",
       "      <td>Other</td>\n",
       "      <td>15.0</td>\n",
       "      <td>Вища (бакалавр, спеціаліст, магістр)</td>\n",
       "      <td>Київ чи область</td>\n",
       "      <td>667563fc9922d71c7c2bfa8e9fba9fbc</td>\n",
       "      <td>Wednesday</td>\n",
       "    </tr>\n",
       "    <tr>\n",
       "      <th>4</th>\n",
       "      <td>Blockchain</td>\n",
       "      <td>40</td>\n",
       "      <td>2022-11-30 10:46:30</td>\n",
       "      <td>8550.0</td>\n",
       "      <td>40</td>\n",
       "      <td>Чоловік</td>\n",
       "      <td>Married</td>\n",
       "      <td>1.0</td>\n",
       "      <td>Вища (бакалавр, спеціаліст, магістр)</td>\n",
       "      <td>Одеса чи область</td>\n",
       "      <td>056d0a80808828a4d4017224fd17491e</td>\n",
       "      <td>Wednesday</td>\n",
       "    </tr>\n",
       "  </tbody>\n",
       "</table>\n",
       "</div>"
      ],
      "text/plain": [
       "     Industry  Score          Applied at   Amount  Age   Gender  \\\n",
       "0  Blockchain     20 2022-11-30 10:26:37  12000.0   29  Чоловік   \n",
       "1  Blockchain     20 2022-11-30 10:30:00      NaN   22  Чоловік   \n",
       "2  Blockchain     20 2022-11-30 10:36:59  30000.0   29  Чоловік   \n",
       "3  Blockchain     40 2022-11-30 10:44:28  16050.0   50  Чоловік   \n",
       "4  Blockchain     40 2022-11-30 10:46:30   8550.0   40  Чоловік   \n",
       "\n",
       "  Marital status  External Rating                       Education level  \\\n",
       "0          Other              8.0  Вища (бакалавр, спеціаліст, магістр)   \n",
       "1         Single              2.0                       Ще студент вишу   \n",
       "2         Single              7.0  Вища (бакалавр, спеціаліст, магістр)   \n",
       "3          Other             15.0  Вища (бакалавр, спеціаліст, магістр)   \n",
       "4        Married              1.0  Вища (бакалавр, спеціаліст, магістр)   \n",
       "\n",
       "                      Location                      applicant_id    weekday  \n",
       "0  Івано-Франківськ чи область  99e7b0dc6cc05dd334d8f38dc26ce9b3  Wednesday  \n",
       "1                          NaN  bef0a5ba4df413cb8e1e3edeaf1f7de3  Wednesday  \n",
       "2              Київ чи область  d85404bd5576f05b711ad56cad428463  Wednesday  \n",
       "3              Київ чи область  667563fc9922d71c7c2bfa8e9fba9fbc  Wednesday  \n",
       "4             Одеса чи область  056d0a80808828a4d4017224fd17491e  Wednesday  "
      ]
     },
     "execution_count": 25,
     "metadata": {},
     "output_type": "execute_result"
    }
   ],
   "source": [
    "# перевірка на день тижня та додавання баллів до SCORE\n",
    "a.loc[(a['weekday'] == 'Wednesday')|(a['weekday'] == 'Thursday')|(a['weekday'] == 'Friday')|(a['weekday'] == 'Monday')|(a['weekday'] == 'Tuesday') , 'Score']+=20\n",
    "a.head()"
   ]
  },
  {
   "cell_type": "code",
   "execution_count": 26,
   "metadata": {},
   "outputs": [
    {
     "data": {
      "text/html": [
       "<div>\n",
       "<style scoped>\n",
       "    .dataframe tbody tr th:only-of-type {\n",
       "        vertical-align: middle;\n",
       "    }\n",
       "\n",
       "    .dataframe tbody tr th {\n",
       "        vertical-align: top;\n",
       "    }\n",
       "\n",
       "    .dataframe thead th {\n",
       "        text-align: right;\n",
       "    }\n",
       "</style>\n",
       "<table border=\"1\" class=\"dataframe\">\n",
       "  <thead>\n",
       "    <tr style=\"text-align: right;\">\n",
       "      <th></th>\n",
       "      <th>Industry</th>\n",
       "      <th>Score</th>\n",
       "      <th>Applied at</th>\n",
       "      <th>Amount</th>\n",
       "      <th>Age</th>\n",
       "      <th>Gender</th>\n",
       "      <th>Marital status</th>\n",
       "      <th>External Rating</th>\n",
       "      <th>Education level</th>\n",
       "      <th>Location</th>\n",
       "      <th>applicant_id</th>\n",
       "      <th>weekday</th>\n",
       "    </tr>\n",
       "  </thead>\n",
       "  <tbody>\n",
       "    <tr>\n",
       "      <th>0</th>\n",
       "      <td>Blockchain</td>\n",
       "      <td>20</td>\n",
       "      <td>2022-11-30 10:26:37</td>\n",
       "      <td>12000.0</td>\n",
       "      <td>29</td>\n",
       "      <td>Чоловік</td>\n",
       "      <td>Other</td>\n",
       "      <td>8.0</td>\n",
       "      <td>Вища (бакалавр, спеціаліст, магістр)</td>\n",
       "      <td>Івано-Франківськ чи область</td>\n",
       "      <td>99e7b0dc6cc05dd334d8f38dc26ce9b3</td>\n",
       "      <td>Wednesday</td>\n",
       "    </tr>\n",
       "    <tr>\n",
       "      <th>1</th>\n",
       "      <td>Blockchain</td>\n",
       "      <td>20</td>\n",
       "      <td>2022-11-30 10:30:00</td>\n",
       "      <td>NaN</td>\n",
       "      <td>22</td>\n",
       "      <td>Чоловік</td>\n",
       "      <td>Single</td>\n",
       "      <td>2.0</td>\n",
       "      <td>Ще студент вишу</td>\n",
       "      <td>NaN</td>\n",
       "      <td>bef0a5ba4df413cb8e1e3edeaf1f7de3</td>\n",
       "      <td>Wednesday</td>\n",
       "    </tr>\n",
       "    <tr>\n",
       "      <th>2</th>\n",
       "      <td>Blockchain</td>\n",
       "      <td>20</td>\n",
       "      <td>2022-11-30 10:36:59</td>\n",
       "      <td>30000.0</td>\n",
       "      <td>29</td>\n",
       "      <td>Чоловік</td>\n",
       "      <td>Single</td>\n",
       "      <td>7.0</td>\n",
       "      <td>Вища (бакалавр, спеціаліст, магістр)</td>\n",
       "      <td>Київ чи область</td>\n",
       "      <td>d85404bd5576f05b711ad56cad428463</td>\n",
       "      <td>Wednesday</td>\n",
       "    </tr>\n",
       "    <tr>\n",
       "      <th>3</th>\n",
       "      <td>Blockchain</td>\n",
       "      <td>40</td>\n",
       "      <td>2022-11-30 10:44:28</td>\n",
       "      <td>16050.0</td>\n",
       "      <td>50</td>\n",
       "      <td>Чоловік</td>\n",
       "      <td>Other</td>\n",
       "      <td>15.0</td>\n",
       "      <td>Вища (бакалавр, спеціаліст, магістр)</td>\n",
       "      <td>Київ чи область</td>\n",
       "      <td>667563fc9922d71c7c2bfa8e9fba9fbc</td>\n",
       "      <td>Wednesday</td>\n",
       "    </tr>\n",
       "    <tr>\n",
       "      <th>4</th>\n",
       "      <td>Blockchain</td>\n",
       "      <td>40</td>\n",
       "      <td>2022-11-30 10:46:30</td>\n",
       "      <td>8550.0</td>\n",
       "      <td>40</td>\n",
       "      <td>Чоловік</td>\n",
       "      <td>Married</td>\n",
       "      <td>1.0</td>\n",
       "      <td>Вища (бакалавр, спеціаліст, магістр)</td>\n",
       "      <td>Одеса чи область</td>\n",
       "      <td>056d0a80808828a4d4017224fd17491e</td>\n",
       "      <td>Wednesday</td>\n",
       "    </tr>\n",
       "  </tbody>\n",
       "</table>\n",
       "</div>"
      ],
      "text/plain": [
       "     Industry  Score          Applied at   Amount  Age   Gender  \\\n",
       "0  Blockchain     20 2022-11-30 10:26:37  12000.0   29  Чоловік   \n",
       "1  Blockchain     20 2022-11-30 10:30:00      NaN   22  Чоловік   \n",
       "2  Blockchain     20 2022-11-30 10:36:59  30000.0   29  Чоловік   \n",
       "3  Blockchain     40 2022-11-30 10:44:28  16050.0   50  Чоловік   \n",
       "4  Blockchain     40 2022-11-30 10:46:30   8550.0   40  Чоловік   \n",
       "\n",
       "  Marital status  External Rating                       Education level  \\\n",
       "0          Other              8.0  Вища (бакалавр, спеціаліст, магістр)   \n",
       "1         Single              2.0                       Ще студент вишу   \n",
       "2         Single              7.0  Вища (бакалавр, спеціаліст, магістр)   \n",
       "3          Other             15.0  Вища (бакалавр, спеціаліст, магістр)   \n",
       "4        Married              1.0  Вища (бакалавр, спеціаліст, магістр)   \n",
       "\n",
       "                      Location                      applicant_id    weekday  \n",
       "0  Івано-Франківськ чи область  99e7b0dc6cc05dd334d8f38dc26ce9b3  Wednesday  \n",
       "1                          NaN  bef0a5ba4df413cb8e1e3edeaf1f7de3  Wednesday  \n",
       "2              Київ чи область  d85404bd5576f05b711ad56cad428463  Wednesday  \n",
       "3              Київ чи область  667563fc9922d71c7c2bfa8e9fba9fbc  Wednesday  \n",
       "4             Одеса чи область  056d0a80808828a4d4017224fd17491e  Wednesday  "
      ]
     },
     "execution_count": 26,
     "metadata": {},
     "output_type": "execute_result"
    }
   ],
   "source": [
    "Merjed_df=a\n",
    "Merjed_df.head()"
   ]
  },
  {
   "cell_type": "markdown",
   "metadata": {},
   "source": [
    "Якщо заявщик одружений, до рейтингу додається 20 балів"
   ]
  },
  {
   "cell_type": "code",
   "execution_count": 27,
   "metadata": {},
   "outputs": [],
   "source": [
    "Merjed_df.loc[(Merjed_df['Marital status']=='Married'),'Score']+=20"
   ]
  },
  {
   "cell_type": "code",
   "execution_count": 28,
   "metadata": {},
   "outputs": [
    {
     "data": {
      "text/html": [
       "<div>\n",
       "<style scoped>\n",
       "    .dataframe tbody tr th:only-of-type {\n",
       "        vertical-align: middle;\n",
       "    }\n",
       "\n",
       "    .dataframe tbody tr th {\n",
       "        vertical-align: top;\n",
       "    }\n",
       "\n",
       "    .dataframe thead th {\n",
       "        text-align: right;\n",
       "    }\n",
       "</style>\n",
       "<table border=\"1\" class=\"dataframe\">\n",
       "  <thead>\n",
       "    <tr style=\"text-align: right;\">\n",
       "      <th></th>\n",
       "      <th>Industry</th>\n",
       "      <th>Score</th>\n",
       "      <th>Applied at</th>\n",
       "      <th>Amount</th>\n",
       "      <th>Age</th>\n",
       "      <th>Gender</th>\n",
       "      <th>Marital status</th>\n",
       "      <th>External Rating</th>\n",
       "      <th>Education level</th>\n",
       "      <th>Location</th>\n",
       "      <th>applicant_id</th>\n",
       "      <th>weekday</th>\n",
       "    </tr>\n",
       "  </thead>\n",
       "  <tbody>\n",
       "    <tr>\n",
       "      <th>0</th>\n",
       "      <td>Blockchain</td>\n",
       "      <td>20</td>\n",
       "      <td>2022-11-30 10:26:37</td>\n",
       "      <td>12000.0</td>\n",
       "      <td>29</td>\n",
       "      <td>Чоловік</td>\n",
       "      <td>Other</td>\n",
       "      <td>8.0</td>\n",
       "      <td>Вища (бакалавр, спеціаліст, магістр)</td>\n",
       "      <td>Івано-Франківськ чи область</td>\n",
       "      <td>99e7b0dc6cc05dd334d8f38dc26ce9b3</td>\n",
       "      <td>Wednesday</td>\n",
       "    </tr>\n",
       "    <tr>\n",
       "      <th>1</th>\n",
       "      <td>Blockchain</td>\n",
       "      <td>20</td>\n",
       "      <td>2022-11-30 10:30:00</td>\n",
       "      <td>NaN</td>\n",
       "      <td>22</td>\n",
       "      <td>Чоловік</td>\n",
       "      <td>Single</td>\n",
       "      <td>2.0</td>\n",
       "      <td>Ще студент вишу</td>\n",
       "      <td>NaN</td>\n",
       "      <td>bef0a5ba4df413cb8e1e3edeaf1f7de3</td>\n",
       "      <td>Wednesday</td>\n",
       "    </tr>\n",
       "    <tr>\n",
       "      <th>2</th>\n",
       "      <td>Blockchain</td>\n",
       "      <td>20</td>\n",
       "      <td>2022-11-30 10:36:59</td>\n",
       "      <td>30000.0</td>\n",
       "      <td>29</td>\n",
       "      <td>Чоловік</td>\n",
       "      <td>Single</td>\n",
       "      <td>7.0</td>\n",
       "      <td>Вища (бакалавр, спеціаліст, магістр)</td>\n",
       "      <td>Київ чи область</td>\n",
       "      <td>d85404bd5576f05b711ad56cad428463</td>\n",
       "      <td>Wednesday</td>\n",
       "    </tr>\n",
       "    <tr>\n",
       "      <th>3</th>\n",
       "      <td>Blockchain</td>\n",
       "      <td>40</td>\n",
       "      <td>2022-11-30 10:44:28</td>\n",
       "      <td>16050.0</td>\n",
       "      <td>50</td>\n",
       "      <td>Чоловік</td>\n",
       "      <td>Other</td>\n",
       "      <td>15.0</td>\n",
       "      <td>Вища (бакалавр, спеціаліст, магістр)</td>\n",
       "      <td>Київ чи область</td>\n",
       "      <td>667563fc9922d71c7c2bfa8e9fba9fbc</td>\n",
       "      <td>Wednesday</td>\n",
       "    </tr>\n",
       "    <tr>\n",
       "      <th>4</th>\n",
       "      <td>Blockchain</td>\n",
       "      <td>60</td>\n",
       "      <td>2022-11-30 10:46:30</td>\n",
       "      <td>8550.0</td>\n",
       "      <td>40</td>\n",
       "      <td>Чоловік</td>\n",
       "      <td>Married</td>\n",
       "      <td>1.0</td>\n",
       "      <td>Вища (бакалавр, спеціаліст, магістр)</td>\n",
       "      <td>Одеса чи область</td>\n",
       "      <td>056d0a80808828a4d4017224fd17491e</td>\n",
       "      <td>Wednesday</td>\n",
       "    </tr>\n",
       "  </tbody>\n",
       "</table>\n",
       "</div>"
      ],
      "text/plain": [
       "     Industry  Score          Applied at   Amount  Age   Gender  \\\n",
       "0  Blockchain     20 2022-11-30 10:26:37  12000.0   29  Чоловік   \n",
       "1  Blockchain     20 2022-11-30 10:30:00      NaN   22  Чоловік   \n",
       "2  Blockchain     20 2022-11-30 10:36:59  30000.0   29  Чоловік   \n",
       "3  Blockchain     40 2022-11-30 10:44:28  16050.0   50  Чоловік   \n",
       "4  Blockchain     60 2022-11-30 10:46:30   8550.0   40  Чоловік   \n",
       "\n",
       "  Marital status  External Rating                       Education level  \\\n",
       "0          Other              8.0  Вища (бакалавр, спеціаліст, магістр)   \n",
       "1         Single              2.0                       Ще студент вишу   \n",
       "2         Single              7.0  Вища (бакалавр, спеціаліст, магістр)   \n",
       "3          Other             15.0  Вища (бакалавр, спеціаліст, магістр)   \n",
       "4        Married              1.0  Вища (бакалавр, спеціаліст, магістр)   \n",
       "\n",
       "                      Location                      applicant_id    weekday  \n",
       "0  Івано-Франківськ чи область  99e7b0dc6cc05dd334d8f38dc26ce9b3  Wednesday  \n",
       "1                          NaN  bef0a5ba4df413cb8e1e3edeaf1f7de3  Wednesday  \n",
       "2              Київ чи область  d85404bd5576f05b711ad56cad428463  Wednesday  \n",
       "3              Київ чи область  667563fc9922d71c7c2bfa8e9fba9fbc  Wednesday  \n",
       "4             Одеса чи область  056d0a80808828a4d4017224fd17491e  Wednesday  "
      ]
     },
     "execution_count": 28,
     "metadata": {},
     "output_type": "execute_result"
    }
   ],
   "source": [
    "Merjed_df.head()"
   ]
  },
  {
   "cell_type": "markdown",
   "metadata": {},
   "source": [
    "Якщо заявщик знаходиться в Києві чи області, до рейтингу додається 10 балів"
   ]
  },
  {
   "cell_type": "code",
   "execution_count": 29,
   "metadata": {},
   "outputs": [],
   "source": [
    "Merjed_df.loc[(Merjed_df['Location']=='Київ чи область'),'Score']+=10"
   ]
  },
  {
   "cell_type": "code",
   "execution_count": 30,
   "metadata": {},
   "outputs": [
    {
     "data": {
      "text/html": [
       "<div>\n",
       "<style scoped>\n",
       "    .dataframe tbody tr th:only-of-type {\n",
       "        vertical-align: middle;\n",
       "    }\n",
       "\n",
       "    .dataframe tbody tr th {\n",
       "        vertical-align: top;\n",
       "    }\n",
       "\n",
       "    .dataframe thead th {\n",
       "        text-align: right;\n",
       "    }\n",
       "</style>\n",
       "<table border=\"1\" class=\"dataframe\">\n",
       "  <thead>\n",
       "    <tr style=\"text-align: right;\">\n",
       "      <th></th>\n",
       "      <th>Industry</th>\n",
       "      <th>Score</th>\n",
       "      <th>Applied at</th>\n",
       "      <th>Amount</th>\n",
       "      <th>Age</th>\n",
       "      <th>Gender</th>\n",
       "      <th>Marital status</th>\n",
       "      <th>External Rating</th>\n",
       "      <th>Education level</th>\n",
       "      <th>Location</th>\n",
       "      <th>applicant_id</th>\n",
       "      <th>weekday</th>\n",
       "    </tr>\n",
       "  </thead>\n",
       "  <tbody>\n",
       "    <tr>\n",
       "      <th>0</th>\n",
       "      <td>Blockchain</td>\n",
       "      <td>20</td>\n",
       "      <td>2022-11-30 10:26:37</td>\n",
       "      <td>12000.0</td>\n",
       "      <td>29</td>\n",
       "      <td>Чоловік</td>\n",
       "      <td>Other</td>\n",
       "      <td>8.0</td>\n",
       "      <td>Вища (бакалавр, спеціаліст, магістр)</td>\n",
       "      <td>Івано-Франківськ чи область</td>\n",
       "      <td>99e7b0dc6cc05dd334d8f38dc26ce9b3</td>\n",
       "      <td>Wednesday</td>\n",
       "    </tr>\n",
       "    <tr>\n",
       "      <th>1</th>\n",
       "      <td>Blockchain</td>\n",
       "      <td>20</td>\n",
       "      <td>2022-11-30 10:30:00</td>\n",
       "      <td>NaN</td>\n",
       "      <td>22</td>\n",
       "      <td>Чоловік</td>\n",
       "      <td>Single</td>\n",
       "      <td>2.0</td>\n",
       "      <td>Ще студент вишу</td>\n",
       "      <td>NaN</td>\n",
       "      <td>bef0a5ba4df413cb8e1e3edeaf1f7de3</td>\n",
       "      <td>Wednesday</td>\n",
       "    </tr>\n",
       "    <tr>\n",
       "      <th>2</th>\n",
       "      <td>Blockchain</td>\n",
       "      <td>30</td>\n",
       "      <td>2022-11-30 10:36:59</td>\n",
       "      <td>30000.0</td>\n",
       "      <td>29</td>\n",
       "      <td>Чоловік</td>\n",
       "      <td>Single</td>\n",
       "      <td>7.0</td>\n",
       "      <td>Вища (бакалавр, спеціаліст, магістр)</td>\n",
       "      <td>Київ чи область</td>\n",
       "      <td>d85404bd5576f05b711ad56cad428463</td>\n",
       "      <td>Wednesday</td>\n",
       "    </tr>\n",
       "    <tr>\n",
       "      <th>3</th>\n",
       "      <td>Blockchain</td>\n",
       "      <td>50</td>\n",
       "      <td>2022-11-30 10:44:28</td>\n",
       "      <td>16050.0</td>\n",
       "      <td>50</td>\n",
       "      <td>Чоловік</td>\n",
       "      <td>Other</td>\n",
       "      <td>15.0</td>\n",
       "      <td>Вища (бакалавр, спеціаліст, магістр)</td>\n",
       "      <td>Київ чи область</td>\n",
       "      <td>667563fc9922d71c7c2bfa8e9fba9fbc</td>\n",
       "      <td>Wednesday</td>\n",
       "    </tr>\n",
       "    <tr>\n",
       "      <th>4</th>\n",
       "      <td>Blockchain</td>\n",
       "      <td>60</td>\n",
       "      <td>2022-11-30 10:46:30</td>\n",
       "      <td>8550.0</td>\n",
       "      <td>40</td>\n",
       "      <td>Чоловік</td>\n",
       "      <td>Married</td>\n",
       "      <td>1.0</td>\n",
       "      <td>Вища (бакалавр, спеціаліст, магістр)</td>\n",
       "      <td>Одеса чи область</td>\n",
       "      <td>056d0a80808828a4d4017224fd17491e</td>\n",
       "      <td>Wednesday</td>\n",
       "    </tr>\n",
       "  </tbody>\n",
       "</table>\n",
       "</div>"
      ],
      "text/plain": [
       "     Industry  Score          Applied at   Amount  Age   Gender  \\\n",
       "0  Blockchain     20 2022-11-30 10:26:37  12000.0   29  Чоловік   \n",
       "1  Blockchain     20 2022-11-30 10:30:00      NaN   22  Чоловік   \n",
       "2  Blockchain     30 2022-11-30 10:36:59  30000.0   29  Чоловік   \n",
       "3  Blockchain     50 2022-11-30 10:44:28  16050.0   50  Чоловік   \n",
       "4  Blockchain     60 2022-11-30 10:46:30   8550.0   40  Чоловік   \n",
       "\n",
       "  Marital status  External Rating                       Education level  \\\n",
       "0          Other              8.0  Вища (бакалавр, спеціаліст, магістр)   \n",
       "1         Single              2.0                       Ще студент вишу   \n",
       "2         Single              7.0  Вища (бакалавр, спеціаліст, магістр)   \n",
       "3          Other             15.0  Вища (бакалавр, спеціаліст, магістр)   \n",
       "4        Married              1.0  Вища (бакалавр, спеціаліст, магістр)   \n",
       "\n",
       "                      Location                      applicant_id    weekday  \n",
       "0  Івано-Франківськ чи область  99e7b0dc6cc05dd334d8f38dc26ce9b3  Wednesday  \n",
       "1                          NaN  bef0a5ba4df413cb8e1e3edeaf1f7de3  Wednesday  \n",
       "2              Київ чи область  d85404bd5576f05b711ad56cad428463  Wednesday  \n",
       "3              Київ чи область  667563fc9922d71c7c2bfa8e9fba9fbc  Wednesday  \n",
       "4             Одеса чи область  056d0a80808828a4d4017224fd17491e  Wednesday  "
      ]
     },
     "execution_count": 30,
     "metadata": {},
     "output_type": "execute_result"
    }
   ],
   "source": [
    "Merjed_df.head()"
   ]
  },
  {
   "cell_type": "markdown",
   "metadata": {},
   "source": [
    "Значення 'Score' з таблиці industries.csv також додається до заявки (і складає від 0 до 20 балів"
   ]
  },
  {
   "cell_type": "code",
   "execution_count": null,
   "metadata": {},
   "outputs": [],
   "source": [
    "# це було зроблено спочатку так як використовувається колонка Score з початку вираховування рейтинга"
   ]
  },
  {
   "cell_type": "markdown",
   "metadata": {},
   "source": [
    "Якщо 'External Rating' більше чи дорівнює 7, до рейтингу додається 20 балів"
   ]
  },
  {
   "cell_type": "code",
   "execution_count": 31,
   "metadata": {},
   "outputs": [],
   "source": [
    "Merjed_df.loc[(Merjed_df['External Rating']>=7),'Score']+=20"
   ]
  },
  {
   "cell_type": "code",
   "execution_count": 32,
   "metadata": {},
   "outputs": [
    {
     "data": {
      "text/html": [
       "<div>\n",
       "<style scoped>\n",
       "    .dataframe tbody tr th:only-of-type {\n",
       "        vertical-align: middle;\n",
       "    }\n",
       "\n",
       "    .dataframe tbody tr th {\n",
       "        vertical-align: top;\n",
       "    }\n",
       "\n",
       "    .dataframe thead th {\n",
       "        text-align: right;\n",
       "    }\n",
       "</style>\n",
       "<table border=\"1\" class=\"dataframe\">\n",
       "  <thead>\n",
       "    <tr style=\"text-align: right;\">\n",
       "      <th></th>\n",
       "      <th>Industry</th>\n",
       "      <th>Score</th>\n",
       "      <th>Applied at</th>\n",
       "      <th>Amount</th>\n",
       "      <th>Age</th>\n",
       "      <th>Gender</th>\n",
       "      <th>Marital status</th>\n",
       "      <th>External Rating</th>\n",
       "      <th>Education level</th>\n",
       "      <th>Location</th>\n",
       "      <th>applicant_id</th>\n",
       "      <th>weekday</th>\n",
       "    </tr>\n",
       "  </thead>\n",
       "  <tbody>\n",
       "    <tr>\n",
       "      <th>0</th>\n",
       "      <td>Blockchain</td>\n",
       "      <td>40</td>\n",
       "      <td>2022-11-30 10:26:37</td>\n",
       "      <td>12000.0</td>\n",
       "      <td>29</td>\n",
       "      <td>Чоловік</td>\n",
       "      <td>Other</td>\n",
       "      <td>8.0</td>\n",
       "      <td>Вища (бакалавр, спеціаліст, магістр)</td>\n",
       "      <td>Івано-Франківськ чи область</td>\n",
       "      <td>99e7b0dc6cc05dd334d8f38dc26ce9b3</td>\n",
       "      <td>Wednesday</td>\n",
       "    </tr>\n",
       "    <tr>\n",
       "      <th>1</th>\n",
       "      <td>Blockchain</td>\n",
       "      <td>20</td>\n",
       "      <td>2022-11-30 10:30:00</td>\n",
       "      <td>NaN</td>\n",
       "      <td>22</td>\n",
       "      <td>Чоловік</td>\n",
       "      <td>Single</td>\n",
       "      <td>2.0</td>\n",
       "      <td>Ще студент вишу</td>\n",
       "      <td>NaN</td>\n",
       "      <td>bef0a5ba4df413cb8e1e3edeaf1f7de3</td>\n",
       "      <td>Wednesday</td>\n",
       "    </tr>\n",
       "    <tr>\n",
       "      <th>2</th>\n",
       "      <td>Blockchain</td>\n",
       "      <td>50</td>\n",
       "      <td>2022-11-30 10:36:59</td>\n",
       "      <td>30000.0</td>\n",
       "      <td>29</td>\n",
       "      <td>Чоловік</td>\n",
       "      <td>Single</td>\n",
       "      <td>7.0</td>\n",
       "      <td>Вища (бакалавр, спеціаліст, магістр)</td>\n",
       "      <td>Київ чи область</td>\n",
       "      <td>d85404bd5576f05b711ad56cad428463</td>\n",
       "      <td>Wednesday</td>\n",
       "    </tr>\n",
       "    <tr>\n",
       "      <th>3</th>\n",
       "      <td>Blockchain</td>\n",
       "      <td>70</td>\n",
       "      <td>2022-11-30 10:44:28</td>\n",
       "      <td>16050.0</td>\n",
       "      <td>50</td>\n",
       "      <td>Чоловік</td>\n",
       "      <td>Other</td>\n",
       "      <td>15.0</td>\n",
       "      <td>Вища (бакалавр, спеціаліст, магістр)</td>\n",
       "      <td>Київ чи область</td>\n",
       "      <td>667563fc9922d71c7c2bfa8e9fba9fbc</td>\n",
       "      <td>Wednesday</td>\n",
       "    </tr>\n",
       "    <tr>\n",
       "      <th>4</th>\n",
       "      <td>Blockchain</td>\n",
       "      <td>60</td>\n",
       "      <td>2022-11-30 10:46:30</td>\n",
       "      <td>8550.0</td>\n",
       "      <td>40</td>\n",
       "      <td>Чоловік</td>\n",
       "      <td>Married</td>\n",
       "      <td>1.0</td>\n",
       "      <td>Вища (бакалавр, спеціаліст, магістр)</td>\n",
       "      <td>Одеса чи область</td>\n",
       "      <td>056d0a80808828a4d4017224fd17491e</td>\n",
       "      <td>Wednesday</td>\n",
       "    </tr>\n",
       "  </tbody>\n",
       "</table>\n",
       "</div>"
      ],
      "text/plain": [
       "     Industry  Score          Applied at   Amount  Age   Gender  \\\n",
       "0  Blockchain     40 2022-11-30 10:26:37  12000.0   29  Чоловік   \n",
       "1  Blockchain     20 2022-11-30 10:30:00      NaN   22  Чоловік   \n",
       "2  Blockchain     50 2022-11-30 10:36:59  30000.0   29  Чоловік   \n",
       "3  Blockchain     70 2022-11-30 10:44:28  16050.0   50  Чоловік   \n",
       "4  Blockchain     60 2022-11-30 10:46:30   8550.0   40  Чоловік   \n",
       "\n",
       "  Marital status  External Rating                       Education level  \\\n",
       "0          Other              8.0  Вища (бакалавр, спеціаліст, магістр)   \n",
       "1         Single              2.0                       Ще студент вишу   \n",
       "2         Single              7.0  Вища (бакалавр, спеціаліст, магістр)   \n",
       "3          Other             15.0  Вища (бакалавр, спеціаліст, магістр)   \n",
       "4        Married              1.0  Вища (бакалавр, спеціаліст, магістр)   \n",
       "\n",
       "                      Location                      applicant_id    weekday  \n",
       "0  Івано-Франківськ чи область  99e7b0dc6cc05dd334d8f38dc26ce9b3  Wednesday  \n",
       "1                          NaN  bef0a5ba4df413cb8e1e3edeaf1f7de3  Wednesday  \n",
       "2              Київ чи область  d85404bd5576f05b711ad56cad428463  Wednesday  \n",
       "3              Київ чи область  667563fc9922d71c7c2bfa8e9fba9fbc  Wednesday  \n",
       "4             Одеса чи область  056d0a80808828a4d4017224fd17491e  Wednesday  "
      ]
     },
     "execution_count": 32,
     "metadata": {},
     "output_type": "execute_result"
    }
   ],
   "source": [
    "Merjed_df.head()"
   ]
  },
  {
   "cell_type": "markdown",
   "metadata": {},
   "source": [
    "Якщо 'External Rating' менше чи дорівнює 2, з рейтингу віднімається 20 балів"
   ]
  },
  {
   "cell_type": "code",
   "execution_count": 33,
   "metadata": {},
   "outputs": [],
   "source": [
    "Merjed_df.loc[(Merjed_df['External Rating']<=2),'Score']-=20"
   ]
  },
  {
   "cell_type": "code",
   "execution_count": 34,
   "metadata": {},
   "outputs": [
    {
     "data": {
      "text/html": [
       "<div>\n",
       "<style scoped>\n",
       "    .dataframe tbody tr th:only-of-type {\n",
       "        vertical-align: middle;\n",
       "    }\n",
       "\n",
       "    .dataframe tbody tr th {\n",
       "        vertical-align: top;\n",
       "    }\n",
       "\n",
       "    .dataframe thead th {\n",
       "        text-align: right;\n",
       "    }\n",
       "</style>\n",
       "<table border=\"1\" class=\"dataframe\">\n",
       "  <thead>\n",
       "    <tr style=\"text-align: right;\">\n",
       "      <th></th>\n",
       "      <th>Industry</th>\n",
       "      <th>Score</th>\n",
       "      <th>Applied at</th>\n",
       "      <th>Amount</th>\n",
       "      <th>Age</th>\n",
       "      <th>Gender</th>\n",
       "      <th>Marital status</th>\n",
       "      <th>External Rating</th>\n",
       "      <th>Education level</th>\n",
       "      <th>Location</th>\n",
       "      <th>applicant_id</th>\n",
       "      <th>weekday</th>\n",
       "    </tr>\n",
       "  </thead>\n",
       "  <tbody>\n",
       "    <tr>\n",
       "      <th>0</th>\n",
       "      <td>Blockchain</td>\n",
       "      <td>40</td>\n",
       "      <td>2022-11-30 10:26:37</td>\n",
       "      <td>12000.0</td>\n",
       "      <td>29</td>\n",
       "      <td>Чоловік</td>\n",
       "      <td>Other</td>\n",
       "      <td>8.0</td>\n",
       "      <td>Вища (бакалавр, спеціаліст, магістр)</td>\n",
       "      <td>Івано-Франківськ чи область</td>\n",
       "      <td>99e7b0dc6cc05dd334d8f38dc26ce9b3</td>\n",
       "      <td>Wednesday</td>\n",
       "    </tr>\n",
       "    <tr>\n",
       "      <th>1</th>\n",
       "      <td>Blockchain</td>\n",
       "      <td>0</td>\n",
       "      <td>2022-11-30 10:30:00</td>\n",
       "      <td>NaN</td>\n",
       "      <td>22</td>\n",
       "      <td>Чоловік</td>\n",
       "      <td>Single</td>\n",
       "      <td>2.0</td>\n",
       "      <td>Ще студент вишу</td>\n",
       "      <td>NaN</td>\n",
       "      <td>bef0a5ba4df413cb8e1e3edeaf1f7de3</td>\n",
       "      <td>Wednesday</td>\n",
       "    </tr>\n",
       "    <tr>\n",
       "      <th>2</th>\n",
       "      <td>Blockchain</td>\n",
       "      <td>50</td>\n",
       "      <td>2022-11-30 10:36:59</td>\n",
       "      <td>30000.0</td>\n",
       "      <td>29</td>\n",
       "      <td>Чоловік</td>\n",
       "      <td>Single</td>\n",
       "      <td>7.0</td>\n",
       "      <td>Вища (бакалавр, спеціаліст, магістр)</td>\n",
       "      <td>Київ чи область</td>\n",
       "      <td>d85404bd5576f05b711ad56cad428463</td>\n",
       "      <td>Wednesday</td>\n",
       "    </tr>\n",
       "    <tr>\n",
       "      <th>3</th>\n",
       "      <td>Blockchain</td>\n",
       "      <td>70</td>\n",
       "      <td>2022-11-30 10:44:28</td>\n",
       "      <td>16050.0</td>\n",
       "      <td>50</td>\n",
       "      <td>Чоловік</td>\n",
       "      <td>Other</td>\n",
       "      <td>15.0</td>\n",
       "      <td>Вища (бакалавр, спеціаліст, магістр)</td>\n",
       "      <td>Київ чи область</td>\n",
       "      <td>667563fc9922d71c7c2bfa8e9fba9fbc</td>\n",
       "      <td>Wednesday</td>\n",
       "    </tr>\n",
       "    <tr>\n",
       "      <th>4</th>\n",
       "      <td>Blockchain</td>\n",
       "      <td>40</td>\n",
       "      <td>2022-11-30 10:46:30</td>\n",
       "      <td>8550.0</td>\n",
       "      <td>40</td>\n",
       "      <td>Чоловік</td>\n",
       "      <td>Married</td>\n",
       "      <td>1.0</td>\n",
       "      <td>Вища (бакалавр, спеціаліст, магістр)</td>\n",
       "      <td>Одеса чи область</td>\n",
       "      <td>056d0a80808828a4d4017224fd17491e</td>\n",
       "      <td>Wednesday</td>\n",
       "    </tr>\n",
       "  </tbody>\n",
       "</table>\n",
       "</div>"
      ],
      "text/plain": [
       "     Industry  Score          Applied at   Amount  Age   Gender  \\\n",
       "0  Blockchain     40 2022-11-30 10:26:37  12000.0   29  Чоловік   \n",
       "1  Blockchain      0 2022-11-30 10:30:00      NaN   22  Чоловік   \n",
       "2  Blockchain     50 2022-11-30 10:36:59  30000.0   29  Чоловік   \n",
       "3  Blockchain     70 2022-11-30 10:44:28  16050.0   50  Чоловік   \n",
       "4  Blockchain     40 2022-11-30 10:46:30   8550.0   40  Чоловік   \n",
       "\n",
       "  Marital status  External Rating                       Education level  \\\n",
       "0          Other              8.0  Вища (бакалавр, спеціаліст, магістр)   \n",
       "1         Single              2.0                       Ще студент вишу   \n",
       "2         Single              7.0  Вища (бакалавр, спеціаліст, магістр)   \n",
       "3          Other             15.0  Вища (бакалавр, спеціаліст, магістр)   \n",
       "4        Married              1.0  Вища (бакалавр, спеціаліст, магістр)   \n",
       "\n",
       "                      Location                      applicant_id    weekday  \n",
       "0  Івано-Франківськ чи область  99e7b0dc6cc05dd334d8f38dc26ce9b3  Wednesday  \n",
       "1                          NaN  bef0a5ba4df413cb8e1e3edeaf1f7de3  Wednesday  \n",
       "2              Київ чи область  d85404bd5576f05b711ad56cad428463  Wednesday  \n",
       "3              Київ чи область  667563fc9922d71c7c2bfa8e9fba9fbc  Wednesday  \n",
       "4             Одеса чи область  056d0a80808828a4d4017224fd17491e  Wednesday  "
      ]
     },
     "execution_count": 34,
     "metadata": {},
     "output_type": "execute_result"
    }
   ],
   "source": [
    "Merjed_df.head()"
   ]
  },
  {
   "cell_type": "markdown",
   "metadata": {},
   "source": [
    "В результуючій таблиці залиш лише заявки з рейтингом більше нуля, ці заявки вважатимуться прийнятими."
   ]
  },
  {
   "cell_type": "markdown",
   "metadata": {},
   "source": [
    "Рейтинг має бути числом від 0 до 100"
   ]
  },
  {
   "cell_type": "code",
   "execution_count": 35,
   "metadata": {},
   "outputs": [],
   "source": [
    "Merjed_df=Merjed_df.loc[(Merjed_df['Score']>0)&(Merjed_df['Score']<=100)]"
   ]
  },
  {
   "cell_type": "code",
   "execution_count": 36,
   "metadata": {},
   "outputs": [
    {
     "data": {
      "text/plain": [
       "array([ 40,  50,  70,  20,  30,  60,  10,  80,  90, 100,  15,  35,  55,\n",
       "        85,  65,  95,  75,  45,  25,   5], dtype=int64)"
      ]
     },
     "execution_count": 36,
     "metadata": {},
     "output_type": "execute_result"
    }
   ],
   "source": [
    "Merjed_df['Score'].unique()"
   ]
  },
  {
   "cell_type": "markdown",
   "metadata": {},
   "source": [
    "Рейтинг дорівнює нулю, якщо відсутнє значення 'Amount' або якщо 'External Rating' дорівнює нулю."
   ]
  },
  {
   "cell_type": "code",
   "execution_count": 37,
   "metadata": {},
   "outputs": [
    {
     "data": {
      "text/plain": [
       "31"
      ]
     },
     "execution_count": 37,
     "metadata": {},
     "output_type": "execute_result"
    }
   ],
   "source": [
    "Merjed_df['Amount'].isna().sum()"
   ]
  },
  {
   "cell_type": "code",
   "execution_count": 38,
   "metadata": {},
   "outputs": [],
   "source": [
    "Merjed_df['Amount'] = Merjed_df['Amount'].fillna(0)"
   ]
  },
  {
   "cell_type": "code",
   "execution_count": 39,
   "metadata": {},
   "outputs": [],
   "source": [
    "Merjed_df.loc[(Merjed_df['Amount']==0) | (Merjed_df['External Rating']==0),'Score']=0"
   ]
  },
  {
   "cell_type": "code",
   "execution_count": 40,
   "metadata": {},
   "outputs": [
    {
     "data": {
      "text/plain": [
       "(12974, 12)"
      ]
     },
     "execution_count": 40,
     "metadata": {},
     "output_type": "execute_result"
    }
   ],
   "source": [
    "Merjed_df.shape"
   ]
  },
  {
   "cell_type": "markdown",
   "metadata": {},
   "source": [
    "4) В результуючій таблиці залиш лише заявки з рейтингом більше нуля, ці заявки вважатимуться прийнятими."
   ]
  },
  {
   "cell_type": "code",
   "execution_count": 41,
   "metadata": {},
   "outputs": [],
   "source": [
    "Merjed_df=Merjed_df.loc[(Merjed_df['Score']>0)]"
   ]
  },
  {
   "cell_type": "code",
   "execution_count": 42,
   "metadata": {},
   "outputs": [
    {
     "data": {
      "text/plain": [
       "(12443, 12)"
      ]
     },
     "execution_count": 42,
     "metadata": {},
     "output_type": "execute_result"
    }
   ],
   "source": [
    "Merjed_df.shape"
   ]
  },
  {
   "cell_type": "markdown",
   "metadata": {},
   "source": [
    "5)Дані з результуючої таблиці згрупуй за тижнем подачі заявки, та виведи на графік середній рейтинг прийнятих заявок у кожен тиждень."
   ]
  },
  {
   "cell_type": "code",
   "execution_count": null,
   "metadata": {},
   "outputs": [],
   "source": [
    "# df['date'] = pd.to_datetime(df['date']) - pd.to_timedelta (7, unit='d')"
   ]
  },
  {
   "cell_type": "code",
   "execution_count": 43,
   "metadata": {},
   "outputs": [],
   "source": [
    "Merjed_df['week'] = Merjed_df[\"Applied at\"] - pd.to_timedelta (7, unit='d')"
   ]
  },
  {
   "cell_type": "code",
   "execution_count": 44,
   "metadata": {},
   "outputs": [
    {
     "data": {
      "text/plain": [
       "0       2022-11-23 10:26:37\n",
       "2       2022-11-23 10:36:59\n",
       "3       2022-11-23 10:44:28\n",
       "4       2022-11-23 10:46:30\n",
       "5       2022-11-23 10:48:36\n",
       "                ...        \n",
       "13272   2022-11-26 23:14:00\n",
       "13273   2022-11-27 12:53:00\n",
       "13275   2022-11-30 16:24:00\n",
       "13276   2022-12-07 11:13:46\n",
       "13277   2022-12-19 09:09:22\n",
       "Name: week, Length: 12443, dtype: datetime64[ns]"
      ]
     },
     "execution_count": 44,
     "metadata": {},
     "output_type": "execute_result"
    }
   ],
   "source": [
    "Merjed_df['week']"
   ]
  },
  {
   "cell_type": "code",
   "execution_count": 45,
   "metadata": {},
   "outputs": [],
   "source": [
    "# прибераємо години, хвилини та секунди з дати\n",
    "Merjed_df['week'] = Merjed_df['week'].dt.normalize()"
   ]
  },
  {
   "cell_type": "code",
   "execution_count": 46,
   "metadata": {},
   "outputs": [
    {
     "data": {
      "text/plain": [
       "0       2022-11-23\n",
       "2       2022-11-23\n",
       "3       2022-11-23\n",
       "4       2022-11-23\n",
       "5       2022-11-23\n",
       "           ...    \n",
       "13272   2022-11-26\n",
       "13273   2022-11-27\n",
       "13275   2022-11-30\n",
       "13276   2022-12-07\n",
       "13277   2022-12-19\n",
       "Name: week, Length: 12443, dtype: datetime64[ns]"
      ]
     },
     "execution_count": 46,
     "metadata": {},
     "output_type": "execute_result"
    }
   ],
   "source": [
    "Merjed_df['week']"
   ]
  },
  {
   "cell_type": "code",
   "execution_count": 47,
   "metadata": {},
   "outputs": [],
   "source": [
    "# групуємо за тижнями\n",
    "#df = df.groupby(['Name', pd.Grouper(key='Date', freq='W-MON')])['Quantity'].sum()\n",
    "    \n",
    "a=Merjed_df.groupby([pd.Grouper(key='week', freq='W-MON')], as_index=False).mean('Score')"
   ]
  },
  {
   "cell_type": "code",
   "execution_count": 48,
   "metadata": {},
   "outputs": [
    {
     "data": {
      "text/plain": [
       "(6, 5)"
      ]
     },
     "execution_count": 48,
     "metadata": {},
     "output_type": "execute_result"
    }
   ],
   "source": [
    "a.shape"
   ]
  },
  {
   "cell_type": "code",
   "execution_count": null,
   "metadata": {},
   "outputs": [],
   "source": [
    "a.shape"
   ]
  },
  {
   "cell_type": "code",
   "execution_count": 49,
   "metadata": {},
   "outputs": [
    {
     "data": {
      "text/html": [
       "<div>\n",
       "<style scoped>\n",
       "    .dataframe tbody tr th:only-of-type {\n",
       "        vertical-align: middle;\n",
       "    }\n",
       "\n",
       "    .dataframe tbody tr th {\n",
       "        vertical-align: top;\n",
       "    }\n",
       "\n",
       "    .dataframe thead th {\n",
       "        text-align: right;\n",
       "    }\n",
       "</style>\n",
       "<table border=\"1\" class=\"dataframe\">\n",
       "  <thead>\n",
       "    <tr style=\"text-align: right;\">\n",
       "      <th></th>\n",
       "      <th>week</th>\n",
       "      <th>Score</th>\n",
       "      <th>Amount</th>\n",
       "      <th>Age</th>\n",
       "      <th>External Rating</th>\n",
       "    </tr>\n",
       "  </thead>\n",
       "  <tbody>\n",
       "    <tr>\n",
       "      <th>0</th>\n",
       "      <td>2022-11-28</td>\n",
       "      <td>50.066017</td>\n",
       "      <td>9962.884416</td>\n",
       "      <td>29.626407</td>\n",
       "      <td>5.244805</td>\n",
       "    </tr>\n",
       "    <tr>\n",
       "      <th>1</th>\n",
       "      <td>2022-12-05</td>\n",
       "      <td>49.499571</td>\n",
       "      <td>9165.573921</td>\n",
       "      <td>28.980841</td>\n",
       "      <td>4.896483</td>\n",
       "    </tr>\n",
       "    <tr>\n",
       "      <th>2</th>\n",
       "      <td>2022-12-12</td>\n",
       "      <td>48.471556</td>\n",
       "      <td>8812.365319</td>\n",
       "      <td>29.317341</td>\n",
       "      <td>4.884167</td>\n",
       "    </tr>\n",
       "    <tr>\n",
       "      <th>3</th>\n",
       "      <td>2022-12-19</td>\n",
       "      <td>46.710317</td>\n",
       "      <td>8121.833333</td>\n",
       "      <td>29.607143</td>\n",
       "      <td>4.868254</td>\n",
       "    </tr>\n",
       "    <tr>\n",
       "      <th>4</th>\n",
       "      <td>2022-12-26</td>\n",
       "      <td>50.763889</td>\n",
       "      <td>8777.776786</td>\n",
       "      <td>29.665675</td>\n",
       "      <td>5.054563</td>\n",
       "    </tr>\n",
       "    <tr>\n",
       "      <th>5</th>\n",
       "      <td>2023-01-02</td>\n",
       "      <td>50.976628</td>\n",
       "      <td>8533.302170</td>\n",
       "      <td>29.494157</td>\n",
       "      <td>5.033389</td>\n",
       "    </tr>\n",
       "  </tbody>\n",
       "</table>\n",
       "</div>"
      ],
      "text/plain": [
       "        week      Score       Amount        Age  External Rating\n",
       "0 2022-11-28  50.066017  9962.884416  29.626407         5.244805\n",
       "1 2022-12-05  49.499571  9165.573921  28.980841         4.896483\n",
       "2 2022-12-12  48.471556  8812.365319  29.317341         4.884167\n",
       "3 2022-12-19  46.710317  8121.833333  29.607143         4.868254\n",
       "4 2022-12-26  50.763889  8777.776786  29.665675         5.054563\n",
       "5 2023-01-02  50.976628  8533.302170  29.494157         5.033389"
      ]
     },
     "execution_count": 49,
     "metadata": {},
     "output_type": "execute_result"
    }
   ],
   "source": [
    "a.sort_values(by='week', ascending=True)"
   ]
  },
  {
   "cell_type": "code",
   "execution_count": 50,
   "metadata": {},
   "outputs": [],
   "source": [
    "x=a"
   ]
  },
  {
   "cell_type": "code",
   "execution_count": 51,
   "metadata": {},
   "outputs": [
    {
     "data": {
      "text/plain": [
       "Text(0, 0.5, 'Score')"
      ]
     },
     "execution_count": 51,
     "metadata": {},
     "output_type": "execute_result"
    },
    {
     "data": {
      "image/png": "[encoded data removed]",
      "text/plain": [
       "<Figure size 2000x900 with 1 Axes>"
      ]
     },
     "metadata": {},
     "output_type": "display_data"
    }
   ],
   "source": [
    "fig, ax = plt.subplots(figsize=(20, 9))\n",
    "\n",
    "ax.bar(x[\"week\"], x[\"Score\"])\n",
    "ax.set_title(\"Графік середнього рейтингу прийнятих заявок у кожен тиждень\")\n",
    "ax.set_xlabel(\"week\")\n",
    "ax.set_ylabel(\"Score\")\n",
    "# ax.grid()\n",
    "\n",
    "# Поворачиваем подписи оси x на 45 градусов\n",
    "#ax.set_xticklabels(x[\"week\"], rotation=45)"
   ]
  },
  {
   "cell_type": "markdown",
   "metadata": {},
   "source": [
    "end"
   ]
  },
  {
   "cell_type": "code",
   "execution_count": null,
   "metadata": {},
   "outputs": [],
   "source": []
  }
 ],
 "metadata": {
  "kernelspec": {
   "display_name": "Python 3",
   "language": "python",
   "name": "python3"
  },
  "language_info": {
   "codemirror_mode": {
    "name": "ipython",
    "version": 3
   },
   "file_extension": ".py",
   "mimetype": "text/x-python",
   "name": "python",
   "nbconvert_exporter": "python",
   "pygments_lexer": "ipython3",
   "version": "3.9.5"
  }
 },
 "nbformat": 4,
 "nbformat_minor": 2
}
